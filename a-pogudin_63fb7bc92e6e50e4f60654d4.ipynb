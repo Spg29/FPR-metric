{
    "cells": [
        {
            "cell_type": "code",
            "execution_count": 14,
            "metadata": {},
            "outputs": [],
            "source": [
                "import numpy as np\n",
                "import pandas as pd\n",
                "from scipy import stats\n",
                "import matplotlib.pyplot as plt\n",
                "\n",
                "from tqdm.auto import tqdm"
            ]
        },
        {
            "cell_type": "markdown",
            "metadata": {},
            "source": [
                "### A/A-\u0442\u0435\u0441\u0442, \u043a\u043e\u0442\u043e\u0440\u044b\u0439 \u0441\u0445\u043e\u0434\u0438\u0442\u0441\u044f"
            ]
        },
        {
            "cell_type": "code",
            "execution_count": 11,
            "metadata": {},
            "outputs": [
                {
                    "data": {
                        "application/vnd.jupyter.widget-view+json": {
                            "model_id": "f611d9f20e05406d9c8b552d7ac37931",
                            "version_major": 2,
                            "version_minor": 0
                        },
                        "text/plain": [
                            "HBox(children=(FloatProgress(value=0.0, max=1000.0), HTML(value='')))"
                        ]
                    },
                    "metadata": {},
                    "output_type": "display_data"
                },
                {
                    "name": "stdout",
                    "output_type": "stream",
                    "text": [
                        "\n"
                    ]
                },
                {
                    "data": {
                        "image/png": "[encoded data removed]",
                        "text/plain": [
                            "<Figure size 432x288 with 1 Axes>"
                        ]
                    },
                    "metadata": {},
                    "output_type": "display_data"
                },
                {
                    "data": {
                        "text/plain": [
                            "0.04"
                        ]
                    },
                    "execution_count": 11,
                    "metadata": {},
                    "output_type": "execute_result"
                }
            ],
            "source": [
                "n = 100000\n",
                "simulations = 1000\n",
                "n_s = 1000\n",
                "res = []\n",
                "\n",
                "df = pd.DataFrame({\n",
                "    \"s1\": np.random.exponential(scale=1/0.001, size=n),\n",
                "    \"s2\": np.random.exponential(scale=1/0.001, size=n)\n",
                "})\n",
                "\n",
                "# \u0417\u0430\u043f\u0443\u0441\u043a \u0441\u0438\u043c\u0443\u043b\u044f\u0446\u0438\u0439 A/A \u0442\u0435\u0441\u0442\u0430\n",
                "for i in tqdm(range(simulations)):\n",
                "    s1 = df['s1'].sample(n_s, replace = False).values\n",
                "    s2 = df['s2'].sample(n_s, replace = False).values\n",
                "    res.append(stats.ttest_ind(s1, s2, equal_var = False)[1]) # \u0441\u043e\u0445\u0440\u0430\u043d\u044f\u0435\u043c pvalue\n",
                "\n",
                "plt.hist(res, bins = 50)\n",
                "plt.style.use('ggplot')\n",
                "plt.xlabel('pvalues')\n",
                "plt.ylabel('frequency')\n",
                "plt.title(\"Histogram of ttest A/A simulations \")\n",
                "plt.show()\n",
                "\n",
                "# \u041f\u0440\u043e\u0432\u0435\u0440\u044f\u0435\u043c, \u0447\u0442\u043e \u043a\u043e\u043b\u0438\u0447\u0435\u0441\u0442\u0432\u043e \u043b\u043e\u0436\u043d\u043e\u043f\u043e\u043b\u043e\u0436\u0438\u0442\u0435\u043b\u044c\u043d\u044b\u0445 \u0441\u043b\u0443\u0447\u0430\u0435\u0432 \u043d\u0435 \u043f\u0440\u0435\u0432\u044b\u0448\u0430\u0435\u0442 \u0430\u043b\u044c\u0444\u0430\n",
                "sum(np.array(res) <0.05) / simulations"
            ]
        },
        {
            "cell_type": "markdown",
            "metadata": {},
            "source": [
                "### \u0412\u0442\u043e\u0440\u043e\u0439 \u0441\u043b\u0443\u0447\u0430\u0439, \u043a\u043e\u0433\u0434\u0430 A/A-\u0442\u0435\u0441\u0442 \u043d\u0435 \u0441\u0445\u043e\u0434\u0438\u0442\u0441\u044f"
            ]
        },
        {
            "cell_type": "code",
            "execution_count": 26,
            "metadata": {},
            "outputs": [
                {
                    "data": {
                        "application/vnd.jupyter.widget-view+json": {
                            "model_id": "4c13257d12c745678938c46edb523c68",
                            "version_major": 2,
                            "version_minor": 0
                        },
                        "text/plain": [
                            "HBox(children=(FloatProgress(value=0.0, max=1000.0), HTML(value='')))"
                        ]
                    },
                    "metadata": {},
                    "output_type": "display_data"
                },
                {
                    "name": "stdout",
                    "output_type": "stream",
                    "text": [
                        "\n"
                    ]
                },
                {
                    "data": {
                        "image/png": "[encoded data removed]",
                        "text/plain": [
                            "<Figure size 432x288 with 1 Axes>"
                        ]
                    },
                    "metadata": {},
                    "output_type": "display_data"
                },
                {
                    "data": {
                        "text/plain": [
                            "0.663"
                        ]
                    },
                    "execution_count": 26,
                    "metadata": {},
                    "output_type": "execute_result"
                }
            ],
            "source": [
                "n = 100000\n",
                "simulations = 1000\n",
                "n_s = 1000\n",
                "res = []\n",
                "\n",
                "df = pd.DataFrame({\n",
                "    \"s1\": np.random.exponential(scale=1/0.001, size=n),\n",
                "    \"s2\": np.random.exponential(scale=1/0.001, size=n) * 1.1 # \u0434\u043e\u0431\u0430\u0432\u043b\u044f\u0435\u043c \u044d\u0444\u0444\u0435\u043a\u0442 10%\n",
                "})\n",
                "\n",
                "for i in tqdm(range(simulations)):\n",
                "    s1 = df['s1'].sample(n_s, replace = False).values\n",
                "    s2 = df['s2'].sample(n_s, replace = False).values\n",
                "    res.append(stats.ttest_ind(s1, s2, equal_var = False)[1])\n",
                "\n",
                "plt.hist(res, bins = 50)\n",
                "plt.style.use('ggplot')\n",
                "plt.xlabel('pvalues')\n",
                "plt.ylabel('frequency')\n",
                "plt.title(\"Histogram of ttest A/A simulations \")\n",
                "plt.show()\n",
                "\n",
                "# FPR \u043d\u0435 \u0441\u043e\u0439\u0434\u0435\u0442\u0441\u044f\n",
                "sum(np.array(res) <0.05) / simulations"
            ]
        },
        {
            "cell_type": "code",
            "execution_count": 27,
            "metadata": {},
            "outputs": [
                {
                    "data": {
                        "text/html": [
                            "<div>\n",
                            "<style scoped>\n",
                            "    .dataframe tbody tr th:only-of-type {\n",
                            "        vertical-align: middle;\n",
                            "    }\n",
                            "\n",
                            "    .dataframe tbody tr th {\n",
                            "        vertical-align: top;\n",
                            "    }\n",
                            "\n",
                            "    .dataframe thead th {\n",
                            "        text-align: right;\n",
                            "    }\n",
                            "</style>\n",
                            "<table border=\"1\" class=\"dataframe\">\n",
                            "  <thead>\n",
                            "    <tr style=\"text-align: right;\">\n",
                            "      <th></th>\n",
                            "      <th>s1</th>\n",
                            "      <th>s2</th>\n",
                            "    </tr>\n",
                            "  </thead>\n",
                            "  <tbody>\n",
                            "    <tr>\n",
                            "      <th>0</th>\n",
                            "      <td>4955.649569</td>\n",
                            "      <td>1948.220788</td>\n",
                            "    </tr>\n",
                            "    <tr>\n",
                            "      <th>1</th>\n",
                            "      <td>986.478210</td>\n",
                            "      <td>919.872081</td>\n",
                            "    </tr>\n",
                            "    <tr>\n",
                            "      <th>2</th>\n",
                            "      <td>60.781023</td>\n",
                            "      <td>46.830620</td>\n",
                            "    </tr>\n",
                            "    <tr>\n",
                            "      <th>3</th>\n",
                            "      <td>1707.375545</td>\n",
                            "      <td>205.247266</td>\n",
                            "    </tr>\n",
                            "    <tr>\n",
                            "      <th>4</th>\n",
                            "      <td>1029.261824</td>\n",
                            "      <td>2588.616401</td>\n",
                            "    </tr>\n",
                            "    <tr>\n",
                            "      <th>...</th>\n",
                            "      <td>...</td>\n",
                            "      <td>...</td>\n",
                            "    </tr>\n",
                            "    <tr>\n",
                            "      <th>99995</th>\n",
                            "      <td>1105.183051</td>\n",
                            "      <td>840.845581</td>\n",
                            "    </tr>\n",
                            "    <tr>\n",
                            "      <th>99996</th>\n",
                            "      <td>2535.941280</td>\n",
                            "      <td>877.662792</td>\n",
                            "    </tr>\n",
                            "    <tr>\n",
                            "      <th>99997</th>\n",
                            "      <td>63.378163</td>\n",
                            "      <td>902.423862</td>\n",
                            "    </tr>\n",
                            "    <tr>\n",
                            "      <th>99998</th>\n",
                            "      <td>1002.537315</td>\n",
                            "      <td>644.726270</td>\n",
                            "    </tr>\n",
                            "    <tr>\n",
                            "      <th>99999</th>\n",
                            "      <td>1095.546924</td>\n",
                            "      <td>80.045524</td>\n",
                            "    </tr>\n",
                            "  </tbody>\n",
                            "</table>\n",
                            "<p>100000 rows \u00d7 2 columns</p>\n",
                            "</div>"
                        ],
                        "text/plain": [
                            "                s1           s2\n",
                            "0      4955.649569  1948.220788\n",
                            "1       986.478210   919.872081\n",
                            "2        60.781023    46.830620\n",
                            "3      1707.375545   205.247266\n",
                            "4      1029.261824  2588.616401\n",
                            "...            ...          ...\n",
                            "99995  1105.183051   840.845581\n",
                            "99996  2535.941280   877.662792\n",
                            "99997    63.378163   902.423862\n",
                            "99998  1002.537315   644.726270\n",
                            "99999  1095.546924    80.045524\n",
                            "\n",
                            "[100000 rows x 2 columns]"
                        ]
                    },
                    "execution_count": 27,
                    "metadata": {},
                    "output_type": "execute_result"
                }
            ],
            "source": [
                "df"
            ]
        },
        {
            "cell_type": "code",
            "execution_count": null,
            "metadata": {},
            "outputs": [],
            "source": []
        },
        {
            "cell_type": "code",
            "execution_count": null,
            "metadata": {},
            "outputs": [],
            "source": []
        },
        {
            "cell_type": "code",
            "execution_count": 46,
            "metadata": {},
            "outputs": [
                {
                    "data": {
                        "text/html": [
                            "<div>\n",
                            "<style scoped>\n",
                            "    .dataframe tbody tr th:only-of-type {\n",
                            "        vertical-align: middle;\n",
                            "    }\n",
                            "\n",
                            "    .dataframe tbody tr th {\n",
                            "        vertical-align: top;\n",
                            "    }\n",
                            "\n",
                            "    .dataframe thead th {\n",
                            "        text-align: right;\n",
                            "    }\n",
                            "</style>\n",
                            "<table border=\"1\" class=\"dataframe\">\n",
                            "  <thead>\n",
                            "    <tr style=\"text-align: right;\">\n",
                            "      <th></th>\n",
                            "      <th>uid</th>\n",
                            "      <th>experimentVariant</th>\n",
                            "      <th>version</th>\n",
                            "      <th>purchase</th>\n",
                            "    </tr>\n",
                            "  </thead>\n",
                            "  <tbody>\n",
                            "    <tr>\n",
                            "      <th>1</th>\n",
                            "      <td>c4ca4238a0b923820dcc509a6f75849b</td>\n",
                            "      <td>1</td>\n",
                            "      <td>v2.8.0</td>\n",
                            "      <td>0</td>\n",
                            "    </tr>\n",
                            "    <tr>\n",
                            "      <th>2</th>\n",
                            "      <td>c81e728d9d4c2f636f067f89cc14862c</td>\n",
                            "      <td>0</td>\n",
                            "      <td>v2.9.0</td>\n",
                            "      <td>0</td>\n",
                            "    </tr>\n",
                            "    <tr>\n",
                            "      <th>3</th>\n",
                            "      <td>eccbc87e4b5ce2fe28308fd9f2a7baf3</td>\n",
                            "      <td>1</td>\n",
                            "      <td>v2.9.0</td>\n",
                            "      <td>0</td>\n",
                            "    </tr>\n",
                            "    <tr>\n",
                            "      <th>4</th>\n",
                            "      <td>a87ff679a2f3e71d9181a67b7542122c</td>\n",
                            "      <td>1</td>\n",
                            "      <td>v2.8.0</td>\n",
                            "      <td>0</td>\n",
                            "    </tr>\n",
                            "    <tr>\n",
                            "      <th>5</th>\n",
                            "      <td>e4da3b7fbbce2345d7772b0674a318d5</td>\n",
                            "      <td>1</td>\n",
                            "      <td>v2.8.0</td>\n",
                            "      <td>0</td>\n",
                            "    </tr>\n",
                            "    <tr>\n",
                            "      <th>...</th>\n",
                            "      <td>...</td>\n",
                            "      <td>...</td>\n",
                            "      <td>...</td>\n",
                            "      <td>...</td>\n",
                            "    </tr>\n",
                            "    <tr>\n",
                            "      <th>127014</th>\n",
                            "      <td>d1f082ede77b17a99a9b0b240daf7bdf</td>\n",
                            "      <td>0</td>\n",
                            "      <td>v2.8.0</td>\n",
                            "      <td>0</td>\n",
                            "    </tr>\n",
                            "    <tr>\n",
                            "      <th>127015</th>\n",
                            "      <td>94f0d540830ccdc6b29c1938eea445cc</td>\n",
                            "      <td>0</td>\n",
                            "      <td>v2.8.0</td>\n",
                            "      <td>0</td>\n",
                            "    </tr>\n",
                            "    <tr>\n",
                            "      <th>127016</th>\n",
                            "      <td>709f74cf9721328e98be6f216e8a05a8</td>\n",
                            "      <td>1</td>\n",
                            "      <td>v2.9.0</td>\n",
                            "      <td>0</td>\n",
                            "    </tr>\n",
                            "    <tr>\n",
                            "      <th>127017</th>\n",
                            "      <td>1767ae3f8ffec269d9ed0ac0ede68d90</td>\n",
                            "      <td>1</td>\n",
                            "      <td>v2.8.0</td>\n",
                            "      <td>0</td>\n",
                            "    </tr>\n",
                            "    <tr>\n",
                            "      <th>127018</th>\n",
                            "      <td>8dd8503c49b5e8c6aaea1ed7f0c49765</td>\n",
                            "      <td>1</td>\n",
                            "      <td>v2.8.0</td>\n",
                            "      <td>0</td>\n",
                            "    </tr>\n",
                            "  </tbody>\n",
                            "</table>\n",
                            "<p>127018 rows \u00d7 4 columns</p>\n",
                            "</div>"
                        ],
                        "text/plain": [
                            "                                     uid  experimentVariant version  purchase\n",
                            "1       c4ca4238a0b923820dcc509a6f75849b                  1  v2.8.0         0\n",
                            "2       c81e728d9d4c2f636f067f89cc14862c                  0  v2.9.0         0\n",
                            "3       eccbc87e4b5ce2fe28308fd9f2a7baf3                  1  v2.9.0         0\n",
                            "4       a87ff679a2f3e71d9181a67b7542122c                  1  v2.8.0         0\n",
                            "5       e4da3b7fbbce2345d7772b0674a318d5                  1  v2.8.0         0\n",
                            "...                                  ...                ...     ...       ...\n",
                            "127014  d1f082ede77b17a99a9b0b240daf7bdf                  0  v2.8.0         0\n",
                            "127015  94f0d540830ccdc6b29c1938eea445cc                  0  v2.8.0         0\n",
                            "127016  709f74cf9721328e98be6f216e8a05a8                  1  v2.9.0         0\n",
                            "127017  1767ae3f8ffec269d9ed0ac0ede68d90                  1  v2.8.0         0\n",
                            "127018  8dd8503c49b5e8c6aaea1ed7f0c49765                  1  v2.8.0         0\n",
                            "\n",
                            "[127018 rows x 4 columns]"
                        ]
                    },
                    "execution_count": 46,
                    "metadata": {},
                    "output_type": "execute_result"
                }
            ],
            "source": [
                "df = pd.read_csv(\"/mnt/HC_Volume_18315164/home-jupyter/jupyter-a-pogudin/hw_aa.csv\", sep = ';', index_col=0)\n",
                "df"
            ]
        },
        {
            "cell_type": "markdown",
            "metadata": {},
            "source": [
                "### \u041f\u0440\u043e\u0432\u0435\u0440\u0438\u043c \u0443\u043d\u0438\u043a\u0430\u043b\u044c\u043d\u044b\u0435 \u0437\u043d\u0430\u0447\u0435\u043d\u0438\u044f \u0432 \u043a\u043e\u043b\u043e\u043d\u043a\u0430\u0445"
            ]
        },
        {
            "cell_type": "code",
            "execution_count": 20,
            "metadata": {},
            "outputs": [
                {
                    "data": {
                        "text/plain": [
                            "array(['v2.8.0', 'v2.9.0', 'v3.7.4.0', 'v3.8.0.0'], dtype=object)"
                        ]
                    },
                    "execution_count": 20,
                    "metadata": {},
                    "output_type": "execute_result"
                }
            ],
            "source": [
                "df.version.unique()"
            ]
        },
        {
            "cell_type": "code",
            "execution_count": 37,
            "metadata": {},
            "outputs": [
                {
                    "data": {
                        "text/plain": [
                            "array([1, 0])"
                        ]
                    },
                    "execution_count": 37,
                    "metadata": {},
                    "output_type": "execute_result"
                }
            ],
            "source": [
                "df.experimentVariant.unique()"
            ]
        },
        {
            "cell_type": "code",
            "execution_count": 40,
            "metadata": {},
            "outputs": [
                {
                    "data": {
                        "text/plain": [
                            "array([0, 1])"
                        ]
                    },
                    "execution_count": 40,
                    "metadata": {},
                    "output_type": "execute_result"
                }
            ],
            "source": [
                "df.purchase.unique()"
            ]
        },
        {
            "cell_type": "markdown",
            "metadata": {},
            "source": [
                "### \u0417\u0430\u043f\u0443\u0441\u0442\u0438 \u0410\u0410 \u0442\u0435\u0441\u0442 \u043d\u0430 \u043d\u0430\u0448\u0438\u0445 \u0433\u0440\u0443\u043f\u043f\u0430\u0445"
            ]
        },
        {
            "cell_type": "code",
            "execution_count": 75,
            "metadata": {},
            "outputs": [
                {
                    "data": {
                        "text/plain": [
                            "1         0\n",
                            "3         0\n",
                            "4         0\n",
                            "5         0\n",
                            "6         0\n",
                            "         ..\n",
                            "127010    0\n",
                            "127011    0\n",
                            "127016    0\n",
                            "127017    0\n",
                            "127018    0\n",
                            "Name: purchase, Length: 63916, dtype: int64"
                        ]
                    },
                    "execution_count": 75,
                    "metadata": {},
                    "output_type": "execute_result"
                }
            ],
            "source": [
                "df[df.experimentVariant == 0]['purchase']\n",
                "df[df.experimentVariant == 1]['purchase']"
            ]
        },
        {
            "cell_type": "code",
            "execution_count": 52,
            "metadata": {},
            "outputs": [
                {
                    "data": {
                        "application/vnd.jupyter.widget-view+json": {
                            "model_id": "135205b7a89a4d918d644d9a24b9168a",
                            "version_major": 2,
                            "version_minor": 0
                        },
                        "text/plain": [
                            "HBox(children=(FloatProgress(value=0.0, max=1000.0), HTML(value='')))"
                        ]
                    },
                    "metadata": {},
                    "output_type": "display_data"
                },
                {
                    "name": "stdout",
                    "output_type": "stream",
                    "text": [
                        "\n"
                    ]
                },
                {
                    "data": {
                        "image/png": "[encoded data removed]",
                        "text/plain": [
                            "<Figure size 432x288 with 1 Axes>"
                        ]
                    },
                    "metadata": {},
                    "output_type": "display_data"
                },
                {
                    "data": {
                        "text/plain": [
                            "0.947"
                        ]
                    },
                    "execution_count": 52,
                    "metadata": {},
                    "output_type": "execute_result"
                }
            ],
            "source": [
                "simulations = 1000\n",
                "n_s = 1000\n",
                "res = []\n",
                "\n",
                "for i in tqdm(range(simulations)):\n",
                "    s1 = df[df.experimentVariant == 1]['purchase'].sample(n_s, replace = False).values\n",
                "    s2 = df[df.experimentVariant == 0]['purchase'].sample(n_s, replace = False).values\n",
                "    res.append(stats.ttest_ind(s1, s2, equal_var = False)[1])\n",
                "\n",
                "plt.hist(res, bins = 50)\n",
                "plt.style.use('ggplot')\n",
                "plt.xlabel('pvalues')\n",
                "plt.ylabel('frequency')\n",
                "plt.title(\"Histogram of ttest A/A simulations \")\n",
                "plt.show()\n",
                "\n",
                "# FPR \u043d\u0435 \u0441\u043e\u0439\u0434\u0435\u0442\u0441\u044f\n",
                "sum(np.array(res) <0.05) / simulations"
            ]
        },
        {
            "cell_type": "markdown",
            "metadata": {},
            "source": [
                "### \u0418\u0437 \u043f\u043e\u043b\u0443\u0447\u0435\u043d\u043d\u043e\u0439 \u0434\u0438\u0430\u0433\u0440\u0430\u043c\u043c\u044b, \u043c\u044b \u0432\u0438\u0434\u0438\u043c \u0447\u0442\u043e \u0440\u0430\u0441\u043f\u0440\u0435\u0434\u0435\u043b\u0435\u043d\u0438\u0435 \u043d\u0435 \u043e\u0434\u043d\u043e\u0440\u043e\u0434\u043d\u043e, \u0441\u043e\u043e\u0442\u0432\u0435\u0442\u0441\u0442\u0432\u0435\u043d\u043d\u043e \u043f\u043e\u0434\u0442\u0432\u0435\u0440\u0436\u0434\u0430\u0435\u043c \u0443\u0441\u043b\u043e\u0432\u0438\u0435 \u0437\u0430\u0434\u0430\u0447\u0438, \u0447\u0442\u043e \u0441\u043f\u043b\u0438\u0442 \u0441\u0438\u0441\u0442\u0435\u043c\u0430 \u0440\u0430\u0431\u043e\u0442\u0430\u0435\u0442 \u043d\u0435\u0432\u0435\u0440\u043d\u043e, \u0438 \u0434\u0435\u043b\u0438\u0442 \u0433\u0440\u0443\u043f\u043f\u044b \u043d\u0435 \u043e\u0434\u0438\u043d\u0430\u043a\u043e\u0432\u043e"
            ]
        },
        {
            "cell_type": "code",
            "execution_count": 54,
            "metadata": {},
            "outputs": [
                {
                    "data": {
                        "text/html": [
                            "<div>\n",
                            "<style scoped>\n",
                            "    .dataframe tbody tr th:only-of-type {\n",
                            "        vertical-align: middle;\n",
                            "    }\n",
                            "\n",
                            "    .dataframe tbody tr th {\n",
                            "        vertical-align: top;\n",
                            "    }\n",
                            "\n",
                            "    .dataframe thead th {\n",
                            "        text-align: right;\n",
                            "    }\n",
                            "</style>\n",
                            "<table border=\"1\" class=\"dataframe\">\n",
                            "  <thead>\n",
                            "    <tr style=\"text-align: right;\">\n",
                            "      <th></th>\n",
                            "      <th>uid</th>\n",
                            "      <th>experimentVariant</th>\n",
                            "      <th>version</th>\n",
                            "      <th>purchase</th>\n",
                            "    </tr>\n",
                            "  </thead>\n",
                            "  <tbody>\n",
                            "    <tr>\n",
                            "      <th>1</th>\n",
                            "      <td>c4ca4238a0b923820dcc509a6f75849b</td>\n",
                            "      <td>1</td>\n",
                            "      <td>v2.8.0</td>\n",
                            "      <td>0</td>\n",
                            "    </tr>\n",
                            "    <tr>\n",
                            "      <th>2</th>\n",
                            "      <td>c81e728d9d4c2f636f067f89cc14862c</td>\n",
                            "      <td>0</td>\n",
                            "      <td>v2.9.0</td>\n",
                            "      <td>0</td>\n",
                            "    </tr>\n",
                            "    <tr>\n",
                            "      <th>3</th>\n",
                            "      <td>eccbc87e4b5ce2fe28308fd9f2a7baf3</td>\n",
                            "      <td>1</td>\n",
                            "      <td>v2.9.0</td>\n",
                            "      <td>0</td>\n",
                            "    </tr>\n",
                            "    <tr>\n",
                            "      <th>4</th>\n",
                            "      <td>a87ff679a2f3e71d9181a67b7542122c</td>\n",
                            "      <td>1</td>\n",
                            "      <td>v2.8.0</td>\n",
                            "      <td>0</td>\n",
                            "    </tr>\n",
                            "    <tr>\n",
                            "      <th>5</th>\n",
                            "      <td>e4da3b7fbbce2345d7772b0674a318d5</td>\n",
                            "      <td>1</td>\n",
                            "      <td>v2.8.0</td>\n",
                            "      <td>0</td>\n",
                            "    </tr>\n",
                            "  </tbody>\n",
                            "</table>\n",
                            "</div>"
                        ],
                        "text/plain": [
                            "                                uid  experimentVariant version  purchase\n",
                            "1  c4ca4238a0b923820dcc509a6f75849b                  1  v2.8.0         0\n",
                            "2  c81e728d9d4c2f636f067f89cc14862c                  0  v2.9.0         0\n",
                            "3  eccbc87e4b5ce2fe28308fd9f2a7baf3                  1  v2.9.0         0\n",
                            "4  a87ff679a2f3e71d9181a67b7542122c                  1  v2.8.0         0\n",
                            "5  e4da3b7fbbce2345d7772b0674a318d5                  1  v2.8.0         0"
                        ]
                    },
                    "execution_count": 54,
                    "metadata": {},
                    "output_type": "execute_result"
                }
            ],
            "source": [
                "df.head()"
            ]
        },
        {
            "cell_type": "markdown",
            "metadata": {},
            "source": [
                "## \u041f\u043e\u0441\u0447\u0438\u0442\u0430\u0435\u043c \u0441\u0440\u0435\u0434\u043d\u0435\u0435 \u043f\u043e \u043f\u043e\u043a\u0443\u043f\u043a\u0430\u043c \u0432 \u044d\u043a\u0441\u043f\u0435\u0440\u0435\u043c\u0435\u043d\u0442\u0430\u043b\u044c\u043d\u044b\u0445 \u0433\u0440\u0443\u043f\u043f\u0430\u0445"
            ]
        },
        {
            "cell_type": "code",
            "execution_count": 56,
            "metadata": {},
            "outputs": [
                {
                    "data": {
                        "text/html": [
                            "<div>\n",
                            "<style scoped>\n",
                            "    .dataframe tbody tr th:only-of-type {\n",
                            "        vertical-align: middle;\n",
                            "    }\n",
                            "\n",
                            "    .dataframe tbody tr th {\n",
                            "        vertical-align: top;\n",
                            "    }\n",
                            "\n",
                            "    .dataframe thead th {\n",
                            "        text-align: right;\n",
                            "    }\n",
                            "</style>\n",
                            "<table border=\"1\" class=\"dataframe\">\n",
                            "  <thead>\n",
                            "    <tr style=\"text-align: right;\">\n",
                            "      <th></th>\n",
                            "      <th>experimentVariant</th>\n",
                            "      <th>purchase</th>\n",
                            "    </tr>\n",
                            "  </thead>\n",
                            "  <tbody>\n",
                            "    <tr>\n",
                            "      <th>0</th>\n",
                            "      <td>0</td>\n",
                            "      <td>0.023945</td>\n",
                            "    </tr>\n",
                            "    <tr>\n",
                            "      <th>1</th>\n",
                            "      <td>1</td>\n",
                            "      <td>0.053242</td>\n",
                            "    </tr>\n",
                            "  </tbody>\n",
                            "</table>\n",
                            "</div>"
                        ],
                        "text/plain": [
                            "   experimentVariant  purchase\n",
                            "0                  0  0.023945\n",
                            "1                  1  0.053242"
                        ]
                    },
                    "execution_count": 56,
                    "metadata": {},
                    "output_type": "execute_result"
                }
            ],
            "source": [
                "df.groupby('experimentVariant', as_index=False).agg({'purchase': 'mean'})"
            ]
        },
        {
            "cell_type": "markdown",
            "metadata": {},
            "source": [
                "### \u0412\u0438\u0434\u043d\u043e \u0432\u0438\u0437\u0443\u0430\u043b\u044c\u043d\u043e, \u0447\u0442\u043e \u0441\u0440\u0435\u0434\u043d\u0435\u0435 \u0433\u0440\u0443\u043f\u043f \u043e\u0442\u043b\u0438\u0447\u0430\u0435\u0442\u0441\u044f\n",
                "\n",
                "\n",
                "\n",
                "\n"
            ]
        },
        {
            "cell_type": "markdown",
            "metadata": {},
            "source": [
                "\n",
                "\n",
                "\n",
                "\n",
                "\n",
                "\n",
                "\n",
                "\n",
                "\n",
                "\n",
                "### \u041f\u043e\u0441\u043c\u043e\u0442\u0440\u0438\u043c \u043a\u0430\u043a \u0441\u0440\u0435\u0434\u043d\u0435\u0435 \u043e\u0438\u043b\u0438\u0447\u0435\u0442\u0441\u044f \u0432 \u0437\u0430\u0432\u0438\u0441\u0438\u043c\u043e\u0441\u0442\u0438 \u043e\u0442 \u0443\u0441\u0442\u0430\u043d\u043e\u0432\u043b\u0435\u043d\u043d\u043e\u0439 \u0432\u0435\u0440\u0441\u0438\u0438 \u041c\u041f, \u0438 \u043f\u043e\u0441\u0447\u0438\u0442\u0430\u0435\u043c \u043a\u043e\u043b\u0438\u0447\u0435\u0441\u0442\u0432\u043e \u043f\u043e\u043b\u044c\u0437\u043e\u0432\u0430\u0442\u0435\u043b\u0435\u0439 \u0432 \u043a\u0430\u0436\u0434\u043e\u0439 \u0433\u0440\u0443\u043f\u043f\u0435\n",
                "\n",
                "\n",
                "\n",
                "\n",
                "\n"
            ]
        },
        {
            "cell_type": "code",
            "execution_count": 66,
            "metadata": {},
            "outputs": [
                {
                    "data": {
                        "text/html": [
                            "<div>\n",
                            "<style scoped>\n",
                            "    .dataframe tbody tr th:only-of-type {\n",
                            "        vertical-align: middle;\n",
                            "    }\n",
                            "\n",
                            "    .dataframe tbody tr th {\n",
                            "        vertical-align: top;\n",
                            "    }\n",
                            "\n",
                            "    .dataframe thead th {\n",
                            "        text-align: right;\n",
                            "    }\n",
                            "</style>\n",
                            "<table border=\"1\" class=\"dataframe\">\n",
                            "  <thead>\n",
                            "    <tr style=\"text-align: right;\">\n",
                            "      <th></th>\n",
                            "      <th>experimentVariant</th>\n",
                            "      <th>version</th>\n",
                            "      <th>purchase</th>\n",
                            "      <th>uid</th>\n",
                            "    </tr>\n",
                            "  </thead>\n",
                            "  <tbody>\n",
                            "    <tr>\n",
                            "      <th>0</th>\n",
                            "      <td>0</td>\n",
                            "      <td>v2.8.0</td>\n",
                            "      <td>0.000993</td>\n",
                            "      <td>41283</td>\n",
                            "    </tr>\n",
                            "    <tr>\n",
                            "      <th>4</th>\n",
                            "      <td>1</td>\n",
                            "      <td>v2.8.0</td>\n",
                            "      <td>0.045606</td>\n",
                            "      <td>41552</td>\n",
                            "    </tr>\n",
                            "    <tr>\n",
                            "      <th>1</th>\n",
                            "      <td>0</td>\n",
                            "      <td>v2.9.0</td>\n",
                            "      <td>0.074658</td>\n",
                            "      <td>11921</td>\n",
                            "    </tr>\n",
                            "    <tr>\n",
                            "      <th>5</th>\n",
                            "      <td>1</td>\n",
                            "      <td>v2.9.0</td>\n",
                            "      <td>0.071304</td>\n",
                            "      <td>12033</td>\n",
                            "    </tr>\n",
                            "    <tr>\n",
                            "      <th>2</th>\n",
                            "      <td>0</td>\n",
                            "      <td>v3.7.4.0</td>\n",
                            "      <td>0.059943</td>\n",
                            "      <td>4204</td>\n",
                            "    </tr>\n",
                            "    <tr>\n",
                            "      <th>6</th>\n",
                            "      <td>1</td>\n",
                            "      <td>v3.7.4.0</td>\n",
                            "      <td>0.063018</td>\n",
                            "      <td>4221</td>\n",
                            "    </tr>\n",
                            "    <tr>\n",
                            "      <th>3</th>\n",
                            "      <td>0</td>\n",
                            "      <td>v3.8.0.0</td>\n",
                            "      <td>0.057604</td>\n",
                            "      <td>5694</td>\n",
                            "    </tr>\n",
                            "    <tr>\n",
                            "      <th>7</th>\n",
                            "      <td>1</td>\n",
                            "      <td>v3.8.0.0</td>\n",
                            "      <td>0.062848</td>\n",
                            "      <td>6110</td>\n",
                            "    </tr>\n",
                            "  </tbody>\n",
                            "</table>\n",
                            "</div>"
                        ],
                        "text/plain": [
                            "   experimentVariant   version  purchase    uid\n",
                            "0                  0    v2.8.0  0.000993  41283\n",
                            "4                  1    v2.8.0  0.045606  41552\n",
                            "1                  0    v2.9.0  0.074658  11921\n",
                            "5                  1    v2.9.0  0.071304  12033\n",
                            "2                  0  v3.7.4.0  0.059943   4204\n",
                            "6                  1  v3.7.4.0  0.063018   4221\n",
                            "3                  0  v3.8.0.0  0.057604   5694\n",
                            "7                  1  v3.8.0.0  0.062848   6110"
                        ]
                    },
                    "execution_count": 66,
                    "metadata": {},
                    "output_type": "execute_result"
                }
            ],
            "source": [
                "df.groupby(['experimentVariant', 'version'], as_index=False).agg({'purchase': 'mean', 'uid':'count'}).sort_values('version')"
            ]
        },
        {
            "cell_type": "markdown",
            "metadata": {},
            "source": [
                "### \u0412\u0438\u0434\u0438\u043c \u0447\u0442\u043e \u043f\u0435\u0440\u0432\u0430\u044f \u0433\u0440\u0443\u043f\u043f\u0430 \u0441 \u0431\u043e\u043b\u0435\u0435 \u0441\u0442\u0430\u0440\u043e\u0439 \u0432\u0435\u0440\u0441\u0438\u0435\u0439 \u043f\u0440\u0438\u043b\u043e\u0436\u0435\u043d\u0438\u044f \u043e\u0442\u043b\u0438\u0447\u0430\u0435\u0442\u0441\u044f \u0441\u0443\u0449\u0435\u0441\u0442\u0432\u0435\u043d\u043d\u043e \u043e\u0442 \u0432\u0442\u043e\u0440\u043e\u0439 \u0433\u0440\u0443\u043f\u043f\u044b\u0441 \u0431\u043e\u043b\u0435\u0435 \u0441\u0442\u0430\u0440\u043e\u0439 \u0432\u0435\u0440\u0441\u0438\u0435\u0439 \u043f\u0440\u0438\u043b\u043e\u0436\u0435\u043d\u0438\u044f\n",
                "\n",
                "\n",
                "### \u041f\u043e\u043f\u0440\u043e\u0431\u0443\u0435\u043c \u043f\u043e\u0441\u0447\u0438\u0442\u0430\u0442\u044c FPR \u0431\u0435\u0437 \u0443\u0447\u0430\u0441\u0442\u043d\u0438\u043a\u043e\u0432 \u0441 \u0432\u0435\u0440\u0441\u0438\u0435\u0439 \u041c\u041f v2.8.0"
            ]
        },
        {
            "cell_type": "code",
            "execution_count": 64,
            "metadata": {},
            "outputs": [
                {
                    "data": {
                        "application/vnd.jupyter.widget-view+json": {
                            "model_id": "c8da8c20fc7249e4bc1e7009125ed117",
                            "version_major": 2,
                            "version_minor": 0
                        },
                        "text/plain": [
                            "HBox(children=(FloatProgress(value=0.0, max=1000.0), HTML(value='')))"
                        ]
                    },
                    "metadata": {},
                    "output_type": "display_data"
                },
                {
                    "name": "stdout",
                    "output_type": "stream",
                    "text": [
                        "\n"
                    ]
                },
                {
                    "data": {
                        "image/png": "[encoded data removed]",
                        "text/plain": [
                            "<Figure size 432x288 with 1 Axes>"
                        ]
                    },
                    "metadata": {},
                    "output_type": "display_data"
                },
                {
                    "data": {
                        "text/plain": [
                            "0.052"
                        ]
                    },
                    "execution_count": 64,
                    "metadata": {},
                    "output_type": "execute_result"
                }
            ],
            "source": [
                "simulations = 1000\n",
                "n_s = 1000\n",
                "res = []\n",
                "\n",
                "for i in tqdm(range(simulations)):\n",
                "    s1 = df[(df.experimentVariant == 1) & (df.version != 'v2.8.0')]['purchase'].sample(n_s, replace = False).values\n",
                "    s2 = df[(df.experimentVariant == 0) & (df.version != 'v2.8.0')]['purchase'].sample(n_s, replace = False).values\n",
                "    res.append(stats.ttest_ind(s1, s2, equal_var = False)[1])\n",
                "\n",
                "plt.hist(res, bins = 50)\n",
                "plt.style.use('ggplot')\n",
                "plt.xlabel('pvalues')\n",
                "plt.ylabel('frequency')\n",
                "plt.title(\"Histogram of ttest A/A simulations \")\n",
                "plt.show()\n",
                "\n",
                "# FPR \u043d\u0435 \u0441\u043e\u0439\u0434\u0435\u0442\u0441\u044f\n",
                "sum(np.array(res) <0.05) / simulations"
            ]
        },
        {
            "cell_type": "markdown",
            "metadata": {},
            "source": [
                "### \u0412\u0438\u0434\u0438\u043c \u0447\u0442\u043e \u0438\u0441\u043a\u043b\u044e\u0447\u0435\u043d\u0438\u0435 \u0433\u0440\u0443\u043f\u043f\u044b \u0441 \u041c\u041f v2.8.0 \u0437\u043d\u0430\u0447\u0438\u0442\u0435\u043b\u044c\u043d\u043e \u0443\u043b\u0443\u0447\u0448\u0438\u043b\u043e \u0440\u0430\u0441\u043f\u0440\u0435\u0434\u0435\u043b\u0435\u043d\u0438\u0435, \u043d\u043e \u0432\u0441\u0435 \u0435\u0449\u0435 \u043f\u0440\u0435\u0432\u044b\u0448\u0430\u0435\u0442 FPR 5%\n",
                "\n",
                "### \u041d\u0430 \u0432\u0441\u044f\u043a\u0438\u0439 \u0441\u043b\u0443\u0447\u0430\u0439 \u043f\u0440\u043e\u0432\u0435\u0440\u0438\u043c \u043e\u0441\u0442\u0430\u043b\u044c\u043d\u044b\u0435 \u0433\u0440\u0443\u043f\u043f\u044b"
            ]
        },
        {
            "cell_type": "code",
            "execution_count": 70,
            "metadata": {},
            "outputs": [
                {
                    "data": {
                        "application/vnd.jupyter.widget-view+json": {
                            "model_id": "0e05575b20124ac7b973c4ac76fae47e",
                            "version_major": 2,
                            "version_minor": 0
                        },
                        "text/plain": [
                            "HBox(children=(FloatProgress(value=0.0, max=1000.0), HTML(value='')))"
                        ]
                    },
                    "metadata": {},
                    "output_type": "display_data"
                },
                {
                    "name": "stdout",
                    "output_type": "stream",
                    "text": [
                        "\n"
                    ]
                },
                {
                    "data": {
                        "image/png": "[encoded data removed]",
                        "text/plain": [
                            "<Figure size 432x288 with 1 Axes>"
                        ]
                    },
                    "metadata": {},
                    "output_type": "display_data"
                },
                {
                    "data": {
                        "text/plain": [
                            "0.998"
                        ]
                    },
                    "execution_count": 70,
                    "metadata": {},
                    "output_type": "execute_result"
                }
            ],
            "source": [
                "simulations = 1000\n",
                "n_s = 1000\n",
                "res = []\n",
                "\n",
                "for i in tqdm(range(simulations)):\n",
                "    s1 = df[(df.experimentVariant == 1) & (df.version != 'v2.9.0')]['purchase'].sample(n_s, replace = False).values\n",
                "    s2 = df[(df.experimentVariant == 0) & (df.version != 'v2.9.0')]['purchase'].sample(n_s, replace = False).values\n",
                "    res.append(stats.ttest_ind(s1, s2, equal_var = False)[1])\n",
                "\n",
                "plt.hist(res, bins = 50)\n",
                "plt.style.use('ggplot')\n",
                "plt.xlabel('pvalues')\n",
                "plt.ylabel('frequency')\n",
                "plt.title(\"Histogram of ttest A/A simulations \")\n",
                "plt.show()\n",
                "\n",
                "# FPR \u043d\u0435 \u0441\u043e\u0439\u0434\u0435\u0442\u0441\u044f\n",
                "sum(np.array(res) <0.05) / simulations"
            ]
        },
        {
            "cell_type": "code",
            "execution_count": 71,
            "metadata": {},
            "outputs": [
                {
                    "data": {
                        "application/vnd.jupyter.widget-view+json": {
                            "model_id": "27fc2e82a9334be39609fe9ff1a910f0",
                            "version_major": 2,
                            "version_minor": 0
                        },
                        "text/plain": [
                            "HBox(children=(FloatProgress(value=0.0, max=1000.0), HTML(value='')))"
                        ]
                    },
                    "metadata": {},
                    "output_type": "display_data"
                },
                {
                    "name": "stdout",
                    "output_type": "stream",
                    "text": [
                        "\n"
                    ]
                },
                {
                    "data": {
                        "image/png": "[encoded data removed]",
                        "text/plain": [
                            "<Figure size 432x288 with 1 Axes>"
                        ]
                    },
                    "metadata": {},
                    "output_type": "display_data"
                },
                {
                    "data": {
                        "text/plain": [
                            "0.962"
                        ]
                    },
                    "execution_count": 71,
                    "metadata": {},
                    "output_type": "execute_result"
                }
            ],
            "source": [
                "simulations = 1000\n",
                "n_s = 1000\n",
                "res = []\n",
                "\n",
                "for i in tqdm(range(simulations)):\n",
                "    s1 = df[(df.experimentVariant == 1) & (df.version != 'v3.7.4.0')]['purchase'].sample(n_s, replace = False).values\n",
                "    s2 = df[(df.experimentVariant == 0) & (df.version != 'v3.7.4.0')]['purchase'].sample(n_s, replace = False).values\n",
                "    res.append(stats.ttest_ind(s1, s2, equal_var = False)[1])\n",
                "\n",
                "plt.hist(res, bins = 50)\n",
                "plt.style.use('ggplot')\n",
                "plt.xlabel('pvalues')\n",
                "plt.ylabel('frequency')\n",
                "plt.title(\"Histogram of ttest A/A simulations \")\n",
                "plt.show()\n",
                "\n",
                "# FPR \u043d\u0435 \u0441\u043e\u0439\u0434\u0435\u0442\u0441\u044f\n",
                "sum(np.array(res) <0.05) / simulations"
            ]
        },
        {
            "cell_type": "code",
            "execution_count": 72,
            "metadata": {},
            "outputs": [
                {
                    "data": {
                        "application/vnd.jupyter.widget-view+json": {
                            "model_id": "34dd7bc0d7044dd3a6f06ca6b98cc866",
                            "version_major": 2,
                            "version_minor": 0
                        },
                        "text/plain": [
                            "HBox(children=(FloatProgress(value=0.0, max=1000.0), HTML(value='')))"
                        ]
                    },
                    "metadata": {},
                    "output_type": "display_data"
                },
                {
                    "name": "stdout",
                    "output_type": "stream",
                    "text": [
                        "\n"
                    ]
                },
                {
                    "data": {
                        "image/png": "[encoded data removed]",
                        "text/plain": [
                            "<Figure size 432x288 with 1 Axes>"
                        ]
                    },
                    "metadata": {},
                    "output_type": "display_data"
                },
                {
                    "data": {
                        "text/plain": [
                            "0.976"
                        ]
                    },
                    "execution_count": 72,
                    "metadata": {},
                    "output_type": "execute_result"
                }
            ],
            "source": [
                "simulations = 1000\n",
                "n_s = 1000\n",
                "res = []\n",
                "\n",
                "for i in tqdm(range(simulations)):\n",
                "    s1 = df[(df.experimentVariant == 1) & (df.version != 'v3.8.0.0')]['purchase'].sample(n_s, replace = False).values\n",
                "    s2 = df[(df.experimentVariant == 0) & (df.version != 'v3.8.0.0')]['purchase'].sample(n_s, replace = False).values\n",
                "    res.append(stats.ttest_ind(s1, s2, equal_var = False)[1])\n",
                "\n",
                "plt.hist(res, bins = 50)\n",
                "plt.style.use('ggplot')\n",
                "plt.xlabel('pvalues')\n",
                "plt.ylabel('frequency')\n",
                "plt.title(\"Histogram of ttest A/A simulations \")\n",
                "plt.show()\n",
                "\n",
                "# FPR \u043d\u0435 \u0441\u043e\u0439\u0434\u0435\u0442\u0441\u044f\n",
                "sum(np.array(res) <0.05) / simulations"
            ]
        },
        {
            "cell_type": "markdown",
            "metadata": {},
            "source": [
                "### \u0421\u0434\u0435\u043b\u0430\u0435\u043c \u043a\u043e\u043c\u0431\u0438\u043d\u0430\u0446\u0438\u044e \u0438\u0437 2\u0445 \u0438\u0441\u043a\u043b\u044e\u0447\u0435\u043d\u0438\u0439"
            ]
        },
        {
            "cell_type": "code",
            "execution_count": 73,
            "metadata": {},
            "outputs": [
                {
                    "data": {
                        "application/vnd.jupyter.widget-view+json": {
                            "model_id": "6956a6479b7d48fd9a9e4efaca2c5f3d",
                            "version_major": 2,
                            "version_minor": 0
                        },
                        "text/plain": [
                            "HBox(children=(FloatProgress(value=0.0, max=1000.0), HTML(value='')))"
                        ]
                    },
                    "metadata": {},
                    "output_type": "display_data"
                },
                {
                    "name": "stdout",
                    "output_type": "stream",
                    "text": [
                        "\n"
                    ]
                },
                {
                    "data": {
                        "image/png": "[encoded data removed]",
                        "text/plain": [
                            "<Figure size 432x288 with 1 Axes>"
                        ]
                    },
                    "metadata": {},
                    "output_type": "display_data"
                },
                {
                    "data": {
                        "text/plain": [
                            "0.054"
                        ]
                    },
                    "execution_count": 73,
                    "metadata": {},
                    "output_type": "execute_result"
                }
            ],
            "source": [
                "simulations = 1000\n",
                "n_s = 1000\n",
                "res = []\n",
                "\n",
                "for i in tqdm(range(simulations)):\n",
                "    s1 = df[(df.experimentVariant == 1) & (df.version != 'v2.8.0') & (df.version != 'v2.9.0')]['purchase'].sample(n_s, replace = False).values\n",
                "    s2 = df[(df.experimentVariant == 0) & (df.version != 'v2.8.0') & (df.version != 'v2.9.0')]['purchase'].sample(n_s, replace = False).values\n",
                "    res.append(stats.ttest_ind(s1, s2, equal_var = False)[1])\n",
                "\n",
                "plt.hist(res, bins = 50)\n",
                "plt.style.use('ggplot')\n",
                "plt.xlabel('pvalues')\n",
                "plt.ylabel('frequency')\n",
                "plt.title(\"Histogram of ttest A/A simulations \")\n",
                "plt.show()\n",
                "\n",
                "# FPR \u043d\u0435 \u0441\u043e\u0439\u0434\u0435\u0442\u0441\u044f\n",
                "sum(np.array(res) <0.05) / simulations"
            ]
        },
        {
            "cell_type": "code",
            "execution_count": 74,
            "metadata": {},
            "outputs": [
                {
                    "data": {
                        "application/vnd.jupyter.widget-view+json": {
                            "model_id": "24659eac4b0e4e5eb7b0cae7db59ff16",
                            "version_major": 2,
                            "version_minor": 0
                        },
                        "text/plain": [
                            "HBox(children=(FloatProgress(value=0.0, max=1000.0), HTML(value='')))"
                        ]
                    },
                    "metadata": {},
                    "output_type": "display_data"
                },
                {
                    "name": "stdout",
                    "output_type": "stream",
                    "text": [
                        "\n"
                    ]
                },
                {
                    "data": {
                        "image/png": "[encoded data removed]",
                        "text/plain": [
                            "<Figure size 432x288 with 1 Axes>"
                        ]
                    },
                    "metadata": {},
                    "output_type": "display_data"
                },
                {
                    "data": {
                        "text/plain": [
                            "0.038"
                        ]
                    },
                    "execution_count": 74,
                    "metadata": {},
                    "output_type": "execute_result"
                }
            ],
            "source": [
                "simulations = 1000\n",
                "n_s = 1000\n",
                "res = []\n",
                "\n",
                "for i in tqdm(range(simulations)):\n",
                "    s1 = df[(df.experimentVariant == 1) & (df.version != 'v2.8.0') & (df.version != 'v3.7.4.0')]['purchase'].sample(n_s, replace = False).values\n",
                "    s2 = df[(df.experimentVariant == 0) & (df.version != 'v2.8.0') & (df.version != 'v3.7.4.0')]['purchase'].sample(n_s, replace = False).values\n",
                "    res.append(stats.ttest_ind(s1, s2, equal_var = False)[1])\n",
                "\n",
                "plt.hist(res, bins = 50)\n",
                "plt.style.use('ggplot')\n",
                "plt.xlabel('pvalues')\n",
                "plt.ylabel('frequency')\n",
                "plt.title(\"Histogram of ttest A/A simulations \")\n",
                "plt.show()\n",
                "\n",
                "# FPR \u0441\u043e\u0439\u0434\u0435\u0442\u0441\u044f\n",
                "sum(np.array(res) <0.05) / simulations"
            ]
        },
        {
            "cell_type": "code",
            "execution_count": 68,
            "metadata": {},
            "outputs": [
                {
                    "data": {
                        "application/vnd.jupyter.widget-view+json": {
                            "model_id": "14c6735de1d6477e9191dd89db64df12",
                            "version_major": 2,
                            "version_minor": 0
                        },
                        "text/plain": [
                            "HBox(children=(FloatProgress(value=0.0, max=1000.0), HTML(value='')))"
                        ]
                    },
                    "metadata": {},
                    "output_type": "display_data"
                },
                {
                    "name": "stdout",
                    "output_type": "stream",
                    "text": [
                        "\n"
                    ]
                },
                {
                    "data": {
                        "image/png": "[encoded data removed]",
                        "text/plain": [
                            "<Figure size 432x288 with 1 Axes>"
                        ]
                    },
                    "metadata": {},
                    "output_type": "display_data"
                },
                {
                    "data": {
                        "text/plain": [
                            "0.045"
                        ]
                    },
                    "execution_count": 68,
                    "metadata": {},
                    "output_type": "execute_result"
                }
            ],
            "source": [
                "simulations = 1000\n",
                "n_s = 1000\n",
                "res = []\n",
                "\n",
                "for i in tqdm(range(simulations)):\n",
                "    s1 = df[(df.experimentVariant == 1) & (df.version != 'v2.8.0') & (df.version != 'v3.8.0.0')]['purchase'].sample(n_s, replace = False).values\n",
                "    s2 = df[(df.experimentVariant == 0) & (df.version != 'v2.8.0') & (df.version != 'v3.8.0.0')]['purchase'].sample(n_s, replace = False).values\n",
                "    res.append(stats.ttest_ind(s1, s2, equal_var = False)[1])\n",
                "\n",
                "plt.hist(res, bins = 50)\n",
                "plt.style.use('ggplot')\n",
                "plt.xlabel('pvalues')\n",
                "plt.ylabel('frequency')\n",
                "plt.title(\"Histogram of ttest A/A simulations \")\n",
                "plt.show()\n",
                "\n",
                "# FPR \u0441\u043e\u0439\u0434\u0435\u0442\u0441\u044f\n",
                "sum(np.array(res) <0.05) / simulations"
            ]
        },
        {
            "cell_type": "markdown",
            "metadata": {},
            "source": [
                "# \u0412\u044b\u0432\u043e\u0434:\n",
                "## FPR < 5% \u0434\u043e\u0441\u0442\u0438\u0433\u0430\u0435\u0442\u0441\u044f \u0432 \u0441\u043b\u0443\u0447\u0430\u0435 \u0438\u0441\u043a\u043b\u044e\u0447\u0435\u043d\u0438\u044f \u0438\u0437 \u0443\u0447\u0430\u0441\u0442\u043d\u0438\u043a\u043e\u0432 \u0441 \u041c\u041f v2.8.0 \u0441 \u043a\u043e\u043c\u0431\u0438\u043d\u0430\u0446\u0438\u0435\u0439 \u041c\u0412 v3.7.4.0 \u043b\u0438\u0431\u043e v3.8.0.0."
            ]
        },
        {
            "cell_type": "code",
            "execution_count": 76,
            "metadata": {},
            "outputs": [
                {
                    "data": {
                        "text/html": [
                            "<div>\n",
                            "<style scoped>\n",
                            "    .dataframe tbody tr th:only-of-type {\n",
                            "        vertical-align: middle;\n",
                            "    }\n",
                            "\n",
                            "    .dataframe tbody tr th {\n",
                            "        vertical-align: top;\n",
                            "    }\n",
                            "\n",
                            "    .dataframe thead th {\n",
                            "        text-align: right;\n",
                            "    }\n",
                            "</style>\n",
                            "<table border=\"1\" class=\"dataframe\">\n",
                            "  <thead>\n",
                            "    <tr style=\"text-align: right;\">\n",
                            "      <th></th>\n",
                            "      <th>uid</th>\n",
                            "      <th>experimentVariant</th>\n",
                            "      <th>version</th>\n",
                            "      <th>purchase</th>\n",
                            "    </tr>\n",
                            "  </thead>\n",
                            "  <tbody>\n",
                            "    <tr>\n",
                            "      <th>1</th>\n",
                            "      <td>c4ca4238a0b923820dcc509a6f75849b</td>\n",
                            "      <td>1</td>\n",
                            "      <td>v2.8.0</td>\n",
                            "      <td>0</td>\n",
                            "    </tr>\n",
                            "    <tr>\n",
                            "      <th>2</th>\n",
                            "      <td>c81e728d9d4c2f636f067f89cc14862c</td>\n",
                            "      <td>0</td>\n",
                            "      <td>v2.9.0</td>\n",
                            "      <td>0</td>\n",
                            "    </tr>\n",
                            "    <tr>\n",
                            "      <th>3</th>\n",
                            "      <td>eccbc87e4b5ce2fe28308fd9f2a7baf3</td>\n",
                            "      <td>1</td>\n",
                            "      <td>v2.9.0</td>\n",
                            "      <td>0</td>\n",
                            "    </tr>\n",
                            "    <tr>\n",
                            "      <th>4</th>\n",
                            "      <td>a87ff679a2f3e71d9181a67b7542122c</td>\n",
                            "      <td>1</td>\n",
                            "      <td>v2.8.0</td>\n",
                            "      <td>0</td>\n",
                            "    </tr>\n",
                            "    <tr>\n",
                            "      <th>5</th>\n",
                            "      <td>e4da3b7fbbce2345d7772b0674a318d5</td>\n",
                            "      <td>1</td>\n",
                            "      <td>v2.8.0</td>\n",
                            "      <td>0</td>\n",
                            "    </tr>\n",
                            "  </tbody>\n",
                            "</table>\n",
                            "</div>"
                        ],
                        "text/plain": [
                            "                                uid  experimentVariant version  purchase\n",
                            "1  c4ca4238a0b923820dcc509a6f75849b                  1  v2.8.0         0\n",
                            "2  c81e728d9d4c2f636f067f89cc14862c                  0  v2.9.0         0\n",
                            "3  eccbc87e4b5ce2fe28308fd9f2a7baf3                  1  v2.9.0         0\n",
                            "4  a87ff679a2f3e71d9181a67b7542122c                  1  v2.8.0         0\n",
                            "5  e4da3b7fbbce2345d7772b0674a318d5                  1  v2.8.0         0"
                        ]
                    },
                    "execution_count": 76,
                    "metadata": {},
                    "output_type": "execute_result"
                }
            ],
            "source": [
                "df.head()"
            ]
        },
        {
            "cell_type": "code",
            "execution_count": 79,
            "metadata": {},
            "outputs": [
                {
                    "data": {
                        "text/html": [
                            "<div>\n",
                            "<style scoped>\n",
                            "    .dataframe tbody tr th:only-of-type {\n",
                            "        vertical-align: middle;\n",
                            "    }\n",
                            "\n",
                            "    .dataframe tbody tr th {\n",
                            "        vertical-align: top;\n",
                            "    }\n",
                            "\n",
                            "    .dataframe thead tr th {\n",
                            "        text-align: left;\n",
                            "    }\n",
                            "\n",
                            "    .dataframe thead tr:last-of-type th {\n",
                            "        text-align: right;\n",
                            "    }\n",
                            "</style>\n",
                            "<table border=\"1\" class=\"dataframe\">\n",
                            "  <thead>\n",
                            "    <tr>\n",
                            "      <th></th>\n",
                            "      <th colspan=\"4\" halign=\"left\">purchase</th>\n",
                            "    </tr>\n",
                            "    <tr>\n",
                            "      <th></th>\n",
                            "      <th>count</th>\n",
                            "      <th>mean</th>\n",
                            "      <th>median</th>\n",
                            "      <th>sum</th>\n",
                            "    </tr>\n",
                            "    <tr>\n",
                            "      <th>experimentVariant</th>\n",
                            "      <th></th>\n",
                            "      <th></th>\n",
                            "      <th></th>\n",
                            "      <th></th>\n",
                            "    </tr>\n",
                            "  </thead>\n",
                            "  <tbody>\n",
                            "    <tr>\n",
                            "      <th>0</th>\n",
                            "      <td>41283</td>\n",
                            "      <td>0.000993</td>\n",
                            "      <td>0</td>\n",
                            "      <td>41</td>\n",
                            "    </tr>\n",
                            "    <tr>\n",
                            "      <th>1</th>\n",
                            "      <td>41552</td>\n",
                            "      <td>0.045606</td>\n",
                            "      <td>0</td>\n",
                            "      <td>1895</td>\n",
                            "    </tr>\n",
                            "  </tbody>\n",
                            "</table>\n",
                            "</div>"
                        ],
                        "text/plain": [
                            "                  purchase                       \n",
                            "                     count      mean median   sum\n",
                            "experimentVariant                                \n",
                            "0                    41283  0.000993      0    41\n",
                            "1                    41552  0.045606      0  1895"
                        ]
                    },
                    "execution_count": 79,
                    "metadata": {},
                    "output_type": "execute_result"
                }
            ],
            "source": [
                "df.query(\"version == 'v2.8.0'\").groupby('experimentVariant').agg({'purchase': ['count', 'mean', 'median', 'sum']})"
            ]
        },
        {
            "cell_type": "code",
            "execution_count": null,
            "metadata": {},
            "outputs": [],
            "source": []
        },
        {
            "cell_type": "markdown",
            "metadata": {},
            "source": [
                "# \u043e\u0442\u0432\u0435\u0442 \u043f\u0440\u0435\u043f\u043e\u0434\u0430\u0432\u0430\u0442\u0435\u043b\u044f: \u0432\u044b \u0432\u0435\u0440\u043d\u043e \u0440\u0435\u0448\u0438\u043b\u0438 \u0437\u0430\u0434\u0430\u043d\u0438\u0435!\n",
                "\n",
                "\u041b\u043e\u0433\u0438\u043a\u0430 \u0440\u0435\u0448\u0435\u043d\u0438\u044f \u0437\u0430\u0434\u0430\u0447\u0438 \u0431\u044b\u043b\u0430 \u0432\u0435\u0440\u043d\u043e\u0439: \u0432\u044b \u043f\u043e\u0441\u043b\u0435\u0434\u043e\u0432\u0430\u0442\u0435\u043b\u044c\u043d\u043e \u0441\u0440\u0430\u0432\u043d\u0438\u0432\u0430\u043b\u0438 \u0433\u0440\u0430\u0434\u0430\u0446\u0438\u0438 \u0432 \u0438\u0437\u043c\u0435\u0440\u0435\u043d\u0438\u044f\u0445 \u043f\u043e \u0446\u0435\u043b\u0435\u0432\u043e\u0439 \u043f\u0435\u0440\u0435\u043c\u0435\u043d\u043d\u043e\u0439. \n"
            ]
        },
        {
            "cell_type": "markdown",
            "metadata": {},
            "source": [
                "\u0412 \u043a\u0430\u0447\u0435\u0441\u0442\u0432\u0435 \u0431\u043e\u043d\u0443\u0441\u0430, \u043d\u0438\u0436\u0435 \u043f\u043e\u043a\u0430\u0437\u0430\u043d\u043e \u0430\u043b\u044c\u0442\u0435\u0440\u043d\u0430\u0442\u0438\u0432\u043d\u043e\u0435 \u0440\u0435\u0448\u0435\u043d\u0438\u0435 \u0437\u0430\u0434\u0430\u0447\u0438"
            ]
        },
        {
            "cell_type": "code",
            "execution_count": 6,
            "metadata": {
                "scrolled": true
            },
            "outputs": [
                {
                    "data": {
                        "text/html": [
                            "<div>\n",
                            "<style scoped>\n",
                            "    .dataframe tbody tr th:only-of-type {\n",
                            "        vertical-align: middle;\n",
                            "    }\n",
                            "\n",
                            "    .dataframe tbody tr th {\n",
                            "        vertical-align: top;\n",
                            "    }\n",
                            "\n",
                            "    .dataframe thead th {\n",
                            "        text-align: right;\n",
                            "    }\n",
                            "</style>\n",
                            "<table border=\"1\" class=\"dataframe\">\n",
                            "  <thead>\n",
                            "    <tr style=\"text-align: right;\">\n",
                            "      <th></th>\n",
                            "      <th>uid</th>\n",
                            "      <th>experimentVariant</th>\n",
                            "      <th>version</th>\n",
                            "      <th>purchase</th>\n",
                            "    </tr>\n",
                            "  </thead>\n",
                            "  <tbody>\n",
                            "    <tr>\n",
                            "      <th>1</th>\n",
                            "      <td>c4ca4238a0b923820dcc509a6f75849b</td>\n",
                            "      <td>1</td>\n",
                            "      <td>v2.8.0</td>\n",
                            "      <td>0</td>\n",
                            "    </tr>\n",
                            "    <tr>\n",
                            "      <th>2</th>\n",
                            "      <td>c81e728d9d4c2f636f067f89cc14862c</td>\n",
                            "      <td>0</td>\n",
                            "      <td>v2.9.0</td>\n",
                            "      <td>0</td>\n",
                            "    </tr>\n",
                            "    <tr>\n",
                            "      <th>3</th>\n",
                            "      <td>eccbc87e4b5ce2fe28308fd9f2a7baf3</td>\n",
                            "      <td>1</td>\n",
                            "      <td>v2.9.0</td>\n",
                            "      <td>0</td>\n",
                            "    </tr>\n",
                            "    <tr>\n",
                            "      <th>4</th>\n",
                            "      <td>a87ff679a2f3e71d9181a67b7542122c</td>\n",
                            "      <td>1</td>\n",
                            "      <td>v2.8.0</td>\n",
                            "      <td>0</td>\n",
                            "    </tr>\n",
                            "    <tr>\n",
                            "      <th>5</th>\n",
                            "      <td>e4da3b7fbbce2345d7772b0674a318d5</td>\n",
                            "      <td>1</td>\n",
                            "      <td>v2.8.0</td>\n",
                            "      <td>0</td>\n",
                            "    </tr>\n",
                            "  </tbody>\n",
                            "</table>\n",
                            "</div>"
                        ],
                        "text/plain": [
                            "                                uid  experimentVariant version  purchase\n",
                            "1  c4ca4238a0b923820dcc509a6f75849b                  1  v2.8.0         0\n",
                            "2  c81e728d9d4c2f636f067f89cc14862c                  0  v2.9.0         0\n",
                            "3  eccbc87e4b5ce2fe28308fd9f2a7baf3                  1  v2.9.0         0\n",
                            "4  a87ff679a2f3e71d9181a67b7542122c                  1  v2.8.0         0\n",
                            "5  e4da3b7fbbce2345d7772b0674a318d5                  1  v2.8.0         0"
                        ]
                    },
                    "execution_count": 6,
                    "metadata": {},
                    "output_type": "execute_result"
                }
            ],
            "source": [
                "\n",
                "from statsmodels.stats.proportion import proportions_ztest\n",
                "df = pd.read_csv('hw_aa.csv', sep=';',index_col=0, decimal=',')\n",
                "df.head()"
            ]
        },
        {
            "cell_type": "code",
            "execution_count": 9,
            "metadata": {},
            "outputs": [
                {
                    "name": "stderr",
                    "output_type": "stream",
                    "text": [
                        "/Users/iskander/opt/anaconda3/lib/python3.7/site-packages/statsmodels/stats/weightstats.py:671: RuntimeWarning: invalid value encountered in double_scalars\n",
                        "  zstat = value / std_diff\n",
                        "/Users/iskander/opt/anaconda3/lib/python3.7/site-packages/ipykernel_launcher.py:33: RuntimeWarning: invalid value encountered in less_equal\n"
                    ]
                },
                {
                    "data": {
                        "text/html": [
                            "<div>\n",
                            "<style scoped>\n",
                            "    .dataframe tbody tr th:only-of-type {\n",
                            "        vertical-align: middle;\n",
                            "    }\n",
                            "\n",
                            "    .dataframe tbody tr th {\n",
                            "        vertical-align: top;\n",
                            "    }\n",
                            "\n",
                            "    .dataframe thead th {\n",
                            "        text-align: right;\n",
                            "    }\n",
                            "</style>\n",
                            "<table border=\"1\" class=\"dataframe\">\n",
                            "  <thead>\n",
                            "    <tr style=\"text-align: right;\">\n",
                            "      <th></th>\n",
                            "      <th>group</th>\n",
                            "      <th>cr_x</th>\n",
                            "      <th>cr_y</th>\n",
                            "      <th>fpr_95</th>\n",
                            "      <th>is_fpr</th>\n",
                            "    </tr>\n",
                            "  </thead>\n",
                            "  <tbody>\n",
                            "    <tr>\n",
                            "      <th>0</th>\n",
                            "      <td>3.8.2.0</td>\n",
                            "      <td>0.066557</td>\n",
                            "      <td>0.067081</td>\n",
                            "      <td>0.044</td>\n",
                            "      <td>True</td>\n",
                            "    </tr>\n",
                            "    <tr>\n",
                            "      <th>1</th>\n",
                            "      <td>2.8.0</td>\n",
                            "      <td>0.000000</td>\n",
                            "      <td>0.045606</td>\n",
                            "      <td>1.000</td>\n",
                            "      <td>False</td>\n",
                            "    </tr>\n",
                            "    <tr>\n",
                            "      <th>2</th>\n",
                            "      <td>2.9.0</td>\n",
                            "      <td>0.074658</td>\n",
                            "      <td>0.071304</td>\n",
                            "      <td>0.044</td>\n",
                            "      <td>True</td>\n",
                            "    </tr>\n",
                            "    <tr>\n",
                            "      <th>3</th>\n",
                            "      <td>3.7.4.0</td>\n",
                            "      <td>0.059943</td>\n",
                            "      <td>0.063018</td>\n",
                            "      <td>0.038</td>\n",
                            "      <td>True</td>\n",
                            "    </tr>\n",
                            "    <tr>\n",
                            "      <th>4</th>\n",
                            "      <td>3.8.0.0</td>\n",
                            "      <td>0.057604</td>\n",
                            "      <td>0.062848</td>\n",
                            "      <td>0.046</td>\n",
                            "      <td>True</td>\n",
                            "    </tr>\n",
                            "    <tr>\n",
                            "      <th>5</th>\n",
                            "      <td>3.8.3.0</td>\n",
                            "      <td>0.060475</td>\n",
                            "      <td>0.052519</td>\n",
                            "      <td>0.000</td>\n",
                            "      <td>True</td>\n",
                            "    </tr>\n",
                            "    <tr>\n",
                            "      <th>6</th>\n",
                            "      <td>3.8.1.0</td>\n",
                            "      <td>0.000000</td>\n",
                            "      <td>0.000000</td>\n",
                            "      <td>0.000</td>\n",
                            "      <td>True</td>\n",
                            "    </tr>\n",
                            "    <tr>\n",
                            "      <th>7</th>\n",
                            "      <td>3.7.2.0</td>\n",
                            "      <td>0.000000</td>\n",
                            "      <td>0.000000</td>\n",
                            "      <td>0.000</td>\n",
                            "      <td>True</td>\n",
                            "    </tr>\n",
                            "  </tbody>\n",
                            "</table>\n",
                            "</div>"
                        ],
                        "text/plain": [
                            "     group      cr_x      cr_y  fpr_95  is_fpr\n",
                            "0  3.8.2.0  0.066557  0.067081   0.044    True\n",
                            "1    2.8.0  0.000000  0.045606   1.000   False\n",
                            "2    2.9.0  0.074658  0.071304   0.044    True\n",
                            "3  3.7.4.0  0.059943  0.063018   0.038    True\n",
                            "4  3.8.0.0  0.057604  0.062848   0.046    True\n",
                            "5  3.8.3.0  0.060475  0.052519   0.000    True\n",
                            "6  3.8.1.0  0.000000  0.000000   0.000    True\n",
                            "7  3.7.2.0  0.000000  0.000000   0.000    True"
                        ]
                    },
                    "execution_count": 9,
                    "metadata": {},
                    "output_type": "execute_result"
                }
            ],
            "source": [
                "\n",
                "# \u043e\u0441\u043d\u043e\u0432\u043d\u0430\u044f \u0444\u0443\u043d\u043a\u0446\u0438\u044f \u0434\u043b\u044f \u0440\u0430\u0441\u0447\u0435\u0442\u0430 \u0410\u0410 \u0441 \u0441\u0438\u043d\u0442\u0435\u0442\u0438\u0447\u0435\u0441\u043a\u0438\u043c\u0438 \u0442\u0435\u0441\u0442\u0430\u043c\u0438\n",
                "def metric_fpr(df_x, df_y, metric_col, n_sim, n_s_perc, n_s_min, estimator, *args, **kwargs):\n",
                "    stat_res = {\n",
                "        'aa' : {\n",
                "            'pvalue': [], \n",
                "            'mu_x': [], \n",
                "            'mu_y': []\n",
                "        },\n",
                "        'fpr': {\n",
                "            'fpr_95': 0\n",
                "        }\n",
                "    }\n",
                "    \n",
                "    for sim in range(n_sim):\n",
                "        \n",
                "        # \u043f\u043e-\u0443\u043c\u043e\u043b\u0447\u0430\u043d\u0438\u044e \u0431\u0435\u0440\u0435\u043c %(n_s_perc) \u043d\u0430\u0431\u043b\u044e\u0434\u0435\u043d\u0438\u0439 \u043e\u0442 \u0438\u0441\u0445\u043e\u0434\u043d\u043e\u0439, \u043d\u043e \u043d\u0435 \u0431\u043e\u043b\u0435\u0435 n_s_min\n",
                "        x = df_x[metric_col].sample(int(min(n_s_min, len(df_x) * n_s_perc)), replace = False).values \n",
                "        y = df_y[metric_col].sample(int(min(n_s_min, len(df_y) * n_s_perc)), replace = False).values\n",
                "\n",
                "        if estimator == 'prop':\n",
                "            counts = np.array([sum(x),sum(y)])\n",
                "            nobs = np.array([len(x),len(y)])\n",
                "            stat, pvalue = proportions_ztest(counts, nobs, *args, **kwargs)\n",
                "        \n",
                "        if estimator == 'ttest':\n",
                "            stat, pvalue = stats.ttest_ind(x, y, *args, **kwargs)\n",
                "            \n",
                "        stat_res['aa']['pvalue'].append(pvalue)\n",
                "        stat_res['aa']['mu_x'].append(np.mean(x))\n",
                "        stat_res['aa']['mu_y'].append(np.mean(y))\n",
                "        \n",
                "    \n",
                "    stat_res['fpr']['fpr_95'] =  float(sum(np.array(stat_res['aa']['pvalue']) <= 0.05) / n_sim)\n",
                "    \n",
                "    return stat_res\n",
                "\n",
                "# \u0441\u0447\u0438\u0442\u0430\u0435\u043c \u0410\u0410 \u043f\u043e \u0433\u0440\u0430\u0434\u0430\u0446\u0438\u044f\u043c \u0432\u043d\u0443\u0442\u0440\u0438 \u0438\u0437\u043c\u0435\u0440\u0435\u043d\u0438\u0439 (\u0433\u0440\u0443\u043f\u043f\u0438\u0440\u043e\u0432\u043e\u043a)\n",
                "def fpr_report(df, metric_col, variant_col, group_col, n_sim, n_s_perc, n_s_min, estimator, *args, **kwargs):\n",
                "    list_fpr = []\n",
                "    list_group = list(pd.unique(df[group_col]))\n",
                "    \n",
                "    for v in range(len(list_group)):\n",
                "        df_x = df[(df[variant_col] == 0) & (df[group_col] == list_group[v])]\n",
                "        df_y = df[(df[variant_col] == 1) & (df[group_col] == list_group[v])]\n",
                "        \n",
                "        if (len(df_x) == 0) | (len(df_y) == 0):\n",
                "            continue\n",
                "        else:\n",
                "            cr_x = sum(df_x[metric]) / len(df_x)\n",
                "            cr_y = sum(df_y[metric]) / len(df_y)\n",
                "\n",
                "            fpr = {}\n",
                "            fpr = metric_fpr(\n",
                "                df_x = df_x, \n",
                "                df_y = df_y, \n",
                "                metric_col = metric, \n",
                "                n_sim = n_sim,\n",
                "                n_s_perc = n_s_perc,\n",
                "                n_s_min = n_s_min,\n",
                "                estimator = estimator, *args, **kwargs\n",
                "            )\n",
                "            is_fpr = (fpr['fpr']['fpr_95']<=0.05)\n",
                "            list_fpr.append([list_group[v],cr_x,cr_y,fpr['fpr']['fpr_95'],is_fpr])\n",
                "\n",
                "    report = pd.DataFrame.from_records(list_fpr, columns=['group','cr_x','cr_y','fpr_95','is_fpr'])\n",
                "    \n",
                "    return report\n",
                "\n",
                "# \u043f\u0430\u0440\u0430\u043c\u0435\u0442\u0440\u044b\n",
                "n_sim = 500 # \u043a\u043e\u043b\u0438\u0447\u0435\u0441\u0442\u0432\u043e \u0441\u0438\u043c\u0443\u043b\u044f\u0446\u0438\u0439\n",
                "n_s_perc = 0.9 # % \u043d\u0430\u0431\u043b\u044e\u0434\u0435\u043d\u0438\u0439 \u0432 \u043f\u043e\u0434\u0432\u044b\u0431\u043e\u0440\u043a\u0430\u0445\n",
                "n_s_min = 1000 # \u043d\u043e \u043d\u0435 \u0431\u043e\u043b\u0435\u0435 \u043a\u043e\u043d\u0441\u0442\u0430\u043d\u0442\u044b\n",
                "metric = 'purchase'\n",
                "variant = 'experimentVariant'\n",
                "group = 'version'\n",
                "\n",
                "res = fpr_report(\n",
                "    df = df,\n",
                "    metric_col = metric,\n",
                "    variant_col = variant,\n",
                "    group_col = group,\n",
                "    n_sim = n_sim,\n",
                "    n_s_perc = n_s_perc,\n",
                "    n_s_min = n_s_min,\n",
                "    estimator = 'prop'\n",
                ")\n",
                "\n",
                "res"
            ]
        },
        {
            "cell_type": "markdown",
            "metadata": {},
            "source": [
                "\u0412\u0438\u0434\u0438\u043c, \u0447\u0442\u043e \u043f\u0440\u043e\u0431\u043b\u0435\u043c\u044b \u0432 2.8.0 \u0432\u0435\u0440\u0441\u0438\u0438. \u041f\u043e \u0441\u0443\u0442\u0438 \u043c\u044b \u043c\u043e\u0433\u043b\u0438 \u0431\u044b \u0438\u0442\u0435\u0440\u0438\u0440\u043e\u0432\u0430\u0442\u044c\u0441\u044f \u043f\u043e \u0434\u0440\u0443\u0433\u0438\u043c \u0438\u0437\u043c\u0435\u0440\u0435\u043d\u0438\u044f\u043c \u0438 \u0432 \u043a\u043e\u043d\u0446\u0435 \u043a\u043e\u043d\u0446\u043e\u0432 \u043d\u0430\u0448\u043b\u0438 \u0431\u044b \u043f\u0440\u0438\u0447\u0438\u043d\u0443 \u043d\u0430 \u0441\u0430\u043c\u043e\u043c \u043d\u0438\u0437\u043a\u043e\u043c \u0443\u0440\u043e\u0432\u043d\u0435"
            ]
        },
        {
            "cell_type": "code",
            "execution_count": 8,
            "metadata": {
                "scrolled": false
            },
            "outputs": [
                {
                    "data": {
                        "text/html": [
                            "<div>\n",
                            "<style scoped>\n",
                            "    .dataframe tbody tr th:only-of-type {\n",
                            "        vertical-align: middle;\n",
                            "    }\n",
                            "\n",
                            "    .dataframe tbody tr th {\n",
                            "        vertical-align: top;\n",
                            "    }\n",
                            "\n",
                            "    .dataframe thead th {\n",
                            "        text-align: right;\n",
                            "    }\n",
                            "</style>\n",
                            "<table border=\"1\" class=\"dataframe\">\n",
                            "  <thead>\n",
                            "    <tr style=\"text-align: right;\">\n",
                            "      <th></th>\n",
                            "      <th>group</th>\n",
                            "      <th>cr_x</th>\n",
                            "      <th>cr_y</th>\n",
                            "      <th>fpr_95</th>\n",
                            "      <th>is_fpr</th>\n",
                            "    </tr>\n",
                            "  </thead>\n",
                            "  <tbody>\n",
                            "    <tr>\n",
                            "      <th>0</th>\n",
                            "      <td>ANDROID</td>\n",
                            "      <td>0.065903</td>\n",
                            "      <td>0.066633</td>\n",
                            "      <td>0.038</td>\n",
                            "      <td>True</td>\n",
                            "    </tr>\n",
                            "    <tr>\n",
                            "      <th>1</th>\n",
                            "      <td>IOS</td>\n",
                            "      <td>0.074658</td>\n",
                            "      <td>0.071292</td>\n",
                            "      <td>0.044</td>\n",
                            "      <td>True</td>\n",
                            "    </tr>\n",
                            "  </tbody>\n",
                            "</table>\n",
                            "</div>"
                        ],
                        "text/plain": [
                            "     group      cr_x      cr_y  fpr_95  is_fpr\n",
                            "0  ANDROID  0.065903  0.066633   0.038    True\n",
                            "1      IOS  0.074658  0.071292   0.044    True"
                        ]
                    },
                    "execution_count": 8,
                    "metadata": {},
                    "output_type": "execute_result"
                }
            ],
            "source": [
                "np.random.seed(1)\n",
                "group = 'operatingSystem'\n",
                "df_fltrd = df[(df['version']!='2.8.0')]\n",
                "\n",
                "res = fpr_report(\n",
                "    df = df_fltrd,\n",
                "    metric_col = metric,\n",
                "    variant_col = variant,\n",
                "    group_col = group,\n",
                "    n_sim = n_sim,\n",
                "    n_s_perc = n_s_perc,\n",
                "    n_s_min = n_s_min,\n",
                "    estimator = 'prop'\n",
                ")\n",
                "\n",
                "res\n"
            ]
        }
    ],
    "metadata": {
        "kernelspec": {
            "display_name": "Python 3",
            "language": "python",
            "name": "python3"
        },
        "language_info": {
            "codemirror_mode": {
                "name": "ipython",
                "version": 3
            },
            "file_extension": ".py",
            "mimetype": "text/x-python",
            "name": "python",
            "nbconvert_exporter": "python",
            "pygments_lexer": "ipython3",
            "version": "3.7.3"
        }
    },
    "nbformat": 4,
    "nbformat_minor": 4
}